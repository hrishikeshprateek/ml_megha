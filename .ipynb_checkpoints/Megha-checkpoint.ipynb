{
 "cells": [
  {
   "cell_type": "code",
   "execution_count": 1,
   "id": "433e1374",
   "metadata": {},
   "outputs": [],
   "source": [
    "import csv\n",
    "import requests\n",
    "from bs4 import BeautifulSoup"
   ]
  },
  {
   "cell_type": "code",
   "execution_count": 5,
   "id": "34854bc0",
   "metadata": {},
   "outputs": [],
   "source": [
    "url = \"https://www.google.com/search?q=samsung+mobile\"  "
   ]
  },
  {
   "cell_type": "code",
   "execution_count": 8,
   "id": "59e465a0",
   "metadata": {},
   "outputs": [],
   "source": [
    "\n",
    "def scrape_ads_data(url):\n",
    "    headers = {\n",
    "        \"User-Agent\": \"Mozilla/5.0 (Windows NT 10.0; Win64; x64) AppleWebKit/537.36 (KHTML, like Gecko) Chrome/58.0.3029.110 Safari/537.3\"}\n",
    "\n",
    "    response = requests.get(url, headers=headers)\n",
    "    if response.status_code == 200:\n",
    "        soup = BeautifulSoup(response.content, \"html.parser\")\n",
    "\n",
    "        ad_data = []\n",
    "        ads = soup.find_all(\"div\", {\"class\": \"pla-unit-container\"})\n",
    "\n",
    "        for ad in ads:\n",
    "            image_url = ad.find(\"img\")[\"src\"]\n",
    "            model_name = ad.find(\"pymv4e\").text.strip()\n",
    "            price = ad.find(\"span\", {\"class\": \"e10twf\"}).text.strip()\n",
    "        \n",
    "\n",
    "            ad_data.append([image_url, model_name, price])\n",
    "\n",
    "        return ad_data\n",
    "    else:\n",
    "        print(\"Failed to fetch data.\")\n",
    "        return []"
   ]
  },
  {
   "cell_type": "code",
   "execution_count": 9,
   "id": "b8cdf2b5",
   "metadata": {},
   "outputs": [
    {
     "name": "stdout",
     "output_type": "stream",
     "text": [
      "No data to scrape.\n"
     ]
    }
   ],
   "source": [
    "def save_to_csv(data, filename):\n",
    "    with open(filename, \"w\", newline=\"\", encoding=\"utf-8\") as csvfile:\n",
    "        writer = csv.writer(csvfile)\n",
    "        writer.writerow([\"Image URL\", \"Model Name\", \"Price\"])\n",
    "        for row in data:\n",
    "            writer.writerow(row)\n",
    "\n",
    "if __name__ == \"__main__\":\n",
    "\n",
    "    csv_filename = \"ads_data.csv\"\n",
    "\n",
    "    ads_data = scrape_ads_data(url)\n",
    "    if ads_data:\n",
    "        save_to_csv(ads_data, csv_filename)\n",
    "        print(f\"Data scraped successfully and saved to '{csv_filename}'.\")\n",
    "    else:\n",
    "        print(\"No data to scrape.\")"
   ]
  },
  {
   "cell_type": "code",
   "execution_count": null,
   "id": "67576d04",
   "metadata": {},
   "outputs": [],
   "source": []
  }
 ],
 "metadata": {
  "kernelspec": {
   "display_name": "Python 3 (ipykernel)",
   "language": "python",
   "name": "python3"
  },
  "language_info": {
   "codemirror_mode": {
    "name": "ipython",
    "version": 3
   },
   "file_extension": ".py",
   "mimetype": "text/x-python",
   "name": "python",
   "nbconvert_exporter": "python",
   "pygments_lexer": "ipython3",
   "version": "3.11.4"
  }
 },
 "nbformat": 4,
 "nbformat_minor": 5
}
